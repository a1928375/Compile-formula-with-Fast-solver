{
 "cells": [
  {
   "cell_type": "markdown",
   "metadata": {},
   "source": [
    "# Mine"
   ]
  },
  {
   "cell_type": "code",
   "execution_count": 23,
   "metadata": {},
   "outputs": [
    {
     "name": "stdout",
     "output_type": "stream",
     "text": [
      "(1*U+10*O+10**Y)\n",
      "lower\n",
      "2.5 µs ± 430 ns per loop (mean ± std. dev. of 7 runs, 1000000 loops each)\n"
     ]
    }
   ],
   "source": [
    "def compile_word(word):\n",
    "    \"\"\"Compile a word of uppercase letters as numeric digits. E.g., compile_word('YOU') => '(1*U+10*O+100*Y)'\n",
    "    Non-uppercase words unchanged: compile_word('+') => '+'\"\"\"\n",
    "    \n",
    "    j = []\n",
    "    \n",
    "    h = \"\"\n",
    "    \n",
    "    k = \"10**1000000000000000000\"\n",
    "    \n",
    "    for i in word[::-1]:\n",
    "        \n",
    "        if i.isupper() and i.isalpha():\n",
    "            \n",
    "            j.append(k[:len(j)+1]+\"*\"+i)\n",
    "        \n",
    "        else:\n",
    "            \n",
    "            return word\n",
    "    \n",
    "    l = \"\"\n",
    "    \n",
    "    for i in j:\n",
    "        \n",
    "        l = l + \"+\" + i\n",
    "        \n",
    "    return \"(\" + l[1:] + \")\"\n",
    "            \n",
    "print (compile_word(\"YOU\"))\n",
    "print (compile_word(\"lower\"))\n",
    "\n",
    "%timeit compile_word(\"YOU\")"
   ]
  },
  {
   "cell_type": "markdown",
   "metadata": {},
   "source": [
    "# Instructor\n",
    "# fashionable"
   ]
  },
  {
   "cell_type": "code",
   "execution_count": 24,
   "metadata": {},
   "outputs": [
    {
     "name": "stdout",
     "output_type": "stream",
     "text": [
      "(1*U+10*O+100*Y)\n",
      "lower\n",
      "3.19 µs ± 1.18 µs per loop (mean ± std. dev. of 7 runs, 100000 loops each)\n"
     ]
    }
   ],
   "source": [
    "def compile_word(word):\n",
    "    \n",
    "    if word.isupper():\n",
    "        \n",
    "        terms = [(\"%s*%s\" % (10**i, d)) for (i,d) in enumerate(word[::-1])]\n",
    "        \n",
    "        return \"(\" + \"+\".join(terms) + \")\"\n",
    "    \n",
    "    else:\n",
    "        \n",
    "        return word\n",
    "        \n",
    "print (compile_word(\"YOU\"))\n",
    "print (compile_word(\"lower\"))\n",
    "\n",
    "%timeit compile_word(\"YOU\")"
   ]
  }
 ],
 "metadata": {
  "kernelspec": {
   "display_name": "Python 3",
   "language": "python",
   "name": "python3"
  },
  "language_info": {
   "codemirror_mode": {
    "name": "ipython",
    "version": 3
   },
   "file_extension": ".py",
   "mimetype": "text/x-python",
   "name": "python",
   "nbconvert_exporter": "python",
   "pygments_lexer": "ipython3",
   "version": "3.7.3"
  }
 },
 "nbformat": 4,
 "nbformat_minor": 2
}
