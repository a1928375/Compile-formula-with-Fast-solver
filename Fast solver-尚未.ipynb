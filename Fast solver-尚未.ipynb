{
 "cells": [
  {
   "cell_type": "markdown",
   "metadata": {},
   "source": [
    "# Mine"
   ]
  },
  {
   "cell_type": "code",
   "execution_count": null,
   "metadata": {},
   "outputs": [],
   "source": []
  },
  {
   "cell_type": "markdown",
   "metadata": {},
   "source": [
    "# Instructor"
   ]
  },
  {
   "cell_type": "code",
   "execution_count": 2,
   "metadata": {},
   "outputs": [
    {
     "name": "stdout",
     "output_type": "stream",
     "text": [
      "None\n",
      "324 == 18**2\n",
      "1 / 1 == 1\n"
     ]
    }
   ],
   "source": [
    "import re\n",
    "import itertools\n",
    "import string\n",
    "\n",
    "\"\"\"Compile formula into a function. Also return letters found, as a str, in same order as parms of function. The first digit of \n",
    "   a multi-digit number can't be 0. So if YOU is a word in the formula, and the function is called with Y eqal to 0, the \n",
    "   function should return False.\"\"\"\n",
    "\n",
    "def compile_formula(formula):                                             # Ex: forula = \"YOU == ME**2\"\n",
    "\n",
    "    letters = ''.join(set(re.findall('[A-Z]', formula)))                  # \"YUEOM\"                                   \n",
    "    \n",
    "    parms = ', '.join(letters)                                            # \"Y, U, E, O, M\"\n",
    "    \n",
    "    tokens = re.split('([A-Z]+)', formula)                                # ['', 'YOU', ' == ', 'ME', '**2']\n",
    "    \n",
    "    compiled_tokens = map(compile_word, tokens)                           # list(map(compile_word, tokens)) == ['', '(1*U+10*O+100*Y)', ' == ', '(1*E+10*M)', '**2']\n",
    "\n",
    "    first_vars = [t[0] for t in tokens if len(t)>=2 and t.isupper()]      # ['Y', 'M']\n",
    "\n",
    "    first_vars_conds = [c + \" and \" for c in first_vars]                    #驗證第一位數字不能為0 => 不可以是01 or 023\n",
    "\n",
    "    body = ''.join(first_vars_conds) + ''.join(compiled_tokens)             # \"Y and M and (1*U+10*O+100*Y) == (1*E+10*M)**2\"\n",
    "    \n",
    "    f = 'lambda %s: %s' % (parms, body)                                   # \"lambda Y, U, E, O, M: Y and M and (1*U+10*O+100*Y) == (1*E+10*M)**2\"\n",
    "\n",
    "    return eval(f), letters                                       \n",
    "\n",
    "def compile_word(word):\n",
    "    \"\"\"Compile a word of uppercase letters as numeric digits. E.g., compile_word('YOU') => '(1*U+10*O+100*Y)'\n",
    "    Non-uppercase words uncahanged: compile_word('+') => '+'\"\"\"\n",
    "\n",
    "    if word.isupper():                                                         #只找大寫字母\n",
    "        \n",
    "        terms = [('%s*%s' % (10**i, d)) for (i, d) in enumerate(word[::-1])]   #對每個字母加上 \"數字\" 和 \"*\"\n",
    "        \n",
    "        return \"(\" + \"+\".join(terms) + \")\"                                     # combine\n",
    "    \n",
    "    else:                                                                      #非大寫字母，直接return\n",
    "        \n",
    "        return word\n",
    "\n",
    "def faster_solve(formula):\n",
    "    \"\"\"Given a formula like 'ODD + ODD == EVEN', fill in digits to solve it. Input formula is a string; output is a \n",
    "    digit-filled-in string or None. This version precompiles the formula; only one eval per formula.\"\"\"\n",
    "    \n",
    "    f, letters = compile_formula(formula)                                        # f經過eval(f)後，已經是function\n",
    "    \n",
    "    for digits in itertools.permutations((1,2,3,4,5,6,7,8,9,0), len(letters)):   #以letters的長度，列出所有的digits => digits是numbers的tuple\n",
    "                                                                                 # Ex: (2,3,1)\n",
    "        \n",
    "        try:\n",
    "            \n",
    "            if f(*digits) is True:                                               #將digits依序代入 f => 看是否valid\n",
    "                \n",
    "                table = str.maketrans(letters, ''.join(map(str, digits)))        #如果找到valid的digits => 把letters置換成digits的string\n",
    "                                                                                 # str.maketrans()的str是syntax\n",
    "                \n",
    "                return formula.translate(table)                                  # return \"841 == 29**2\"\n",
    "            \n",
    "        except ArithmeticError:                                                  #如在將digits依序代入 f時，碰到ArithmeticError => 直接pass\n",
    "                                                                                 # Ex: 0/0\n",
    "            pass\n",
    "\n",
    "print (faster_solve('A + B == BA'))                                              # None => should NOT return '1 + 0 == 01'\n",
    "print (faster_solve('YOU == ME**2'))\n",
    "print (faster_solve('X / X == X'))\n"
   ]
  }
 ],
 "metadata": {
  "kernelspec": {
   "display_name": "Python 3",
   "language": "python",
   "name": "python3"
  },
  "language_info": {
   "codemirror_mode": {
    "name": "ipython",
    "version": 3
   },
   "file_extension": ".py",
   "mimetype": "text/x-python",
   "name": "python",
   "nbconvert_exporter": "python",
   "pygments_lexer": "ipython3",
   "version": "3.7.3"
  }
 },
 "nbformat": 4,
 "nbformat_minor": 2
}
